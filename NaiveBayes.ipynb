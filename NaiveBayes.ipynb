{
 "cells": [
  {
   "cell_type": "code",
   "execution_count": 1,
   "id": "63f27124-5618-48d9-a2f2-5ee5d8ac08c5",
   "metadata": {},
   "outputs": [],
   "source": [
    "import pandas as pd\n",
    "import numpy as np\n",
    "from sklearn.model_selection import train_test_split\n",
    "from sklearn.feature_extraction.text import CountVectorizer, TfidfVectorizer\n",
    "from sklearn.naive_bayes import MultinomialNB\n",
    "from sklearn.metrics import accuracy_score,classification_report"
   ]
  },
  {
   "cell_type": "code",
   "execution_count": null,
   "id": "54330940-c39d-4187-b68d-6346e9dd7175",
   "metadata": {},
   "outputs": [],
   "source": [
    "data=pd.DataFrame({'text':[\"This movie was fantastic , i loved it !\",\n",
    "                           \" the acting was terrible and the plot was boring.\",\n",
    "                           \"an amazing and inspiration flim.\",\n",
    "                           \"i would not recommend this movie to anyone.\",\n",
    "                           \"the best flim i have seen all year.\",\n",
    "                           \"a complete waste of time and money.\",\n",
    "                           \"brilliant screenplay and beautiful cinematography.\",\n",
    "                           \"The storyline was predictable and dull.\",\n",
    "                           \"Absolutely loved the performance.\",\n",
    "                           \"it was a huge disappoinment.\"],\n",
    "                   'label': ['Positive','Negative','Positive','Negative','Positive','Negative','Positive','Negative','Positive','Negative']})\n",
    "data"
   ]
  },
  {
   "cell_type": "code",
   "execution_count": 3,
   "id": "5059dc08-b64b-492f-8582-e1db1ffd7e13",
   "metadata": {},
   "outputs": [],
   "source": [
    "X=data['text']\n",
    "Y=data['label']"
   ]
  },
  {
   "cell_type": "code",
   "execution_count": 4,
   "id": "d50ab210-2f0d-43c0-95de-07e7f5b9550f",
   "metadata": {},
   "outputs": [],
   "source": [
    "y_num=Y.map({'Negative':0,'Positive':1})\n"
   ]
  },
  {
   "cell_type": "code",
   "execution_count": 5,
   "id": "73bf0a4f-aea2-4a26-abee-af0f30e97475",
   "metadata": {},
   "outputs": [],
   "source": [
    "X_train,X_test,Y_train,Y_test =train_test_split(X,y_num,test_size=0.2,random_state=42)\n"
   ]
  },
  {
   "cell_type": "code",
   "execution_count": 6,
   "id": "df3ba13f-ff80-45da-a32d-a44ac359f672",
   "metadata": {},
   "outputs": [],
   "source": [
    "vectorizer=CountVectorizer(stop_words='english')\n",
    "x_train_vect=vectorizer.fit_transform(X_train)\n",
    "x_test_vect=vectorizer.transform(X_test)"
   ]
  },
  {
   "cell_type": "code",
   "execution_count": null,
   "id": "1793ae51-37d0-4a5c-b0ef-7c625fa54893",
   "metadata": {},
   "outputs": [],
   "source": [
    "model=MultinomialNB()\n",
    "model.fit(x_train_vect,Y_train)"
   ]
  },
  {
   "cell_type": "code",
   "execution_count": null,
   "id": "f4b58c5c",
   "metadata": {},
   "outputs": [],
   "source": [
    "y_pred=model.predict(x_test_vect)"
   ]
  },
  {
   "cell_type": "code",
   "execution_count": null,
   "id": "c67c89d2-4270-43da-8c82-c62c9b4f763b",
   "metadata": {},
   "outputs": [],
   "source": [
    "accuracy=accuracy_score(Y_test,y_pred)\n",
    "report=classification_report(Y_test,y_pred,target_names=['Negative','Positive'])"
   ]
  },
  {
   "cell_type": "code",
   "execution_count": null,
   "id": "c3f30c6d",
   "metadata": {},
   "outputs": [],
   "source": [
    "print(\"___model evaluation___\")\n",
    "print(f\"Accuracy:{accuracy:.2f}\")\n",
    "print(\"\\nclassification report:\")\n",
    "print(report)"
   ]
  }
 ],
 "metadata": {
  "kernelspec": {
   "display_name": "Python 3 (ipykernel)",
   "language": "python",
   "name": "python3"
  },
  "language_info": {
   "codemirror_mode": {
    "name": "ipython",
    "version": 3
   },
   "file_extension": ".py",
   "mimetype": "text/x-python",
   "name": "python",
   "nbconvert_exporter": "python",
   "pygments_lexer": "ipython3",
   "version": "3.9.13"
  }
 },
 "nbformat": 4,
 "nbformat_minor": 5
}
