{
 "cells": [
  {
   "cell_type": "code",
   "execution_count": 1,
   "id": "a88c8fa1-d855-4300-871b-8567816fa5f2",
   "metadata": {},
   "outputs": [
    {
     "name": "stdout",
     "output_type": "stream",
     "text": [
      "\n",
      "--- TF-IDF Scores ---\n",
      "\n",
      "Document 1:\n",
      " shining    : 0.2599\n",
      " brightly   : 0.0866\n",
      " today      : 0.0866\n",
      " the        : 0.0360\n",
      " sun        : 0.0360\n",
      " is         : 0.0360\n",
      "\n",
      "Document 2:\n",
      " bright     : 0.1386\n",
      " brings     : 0.1386\n",
      " happiness  : 0.1386\n",
      " a          : 0.0575\n",
      " sun        : 0.0575\n",
      "\n",
      "Document 3:\n",
      " sleeping   : 0.0990\n",
      " on         : 0.0990\n",
      " mat        : 0.0990\n",
      " the        : 0.0822\n",
      " cat        : 0.0411\n",
      " is         : 0.0411\n",
      "\n",
      "Document 4:\n",
      " and        : 0.0990\n",
      " dog        : 0.0990\n",
      " are        : 0.0990\n",
      " good       : 0.0990\n",
      " friends    : 0.0990\n",
      " a          : 0.0411\n",
      " cat        : 0.0411\n"
     ]
    }
   ],
   "source": [
    "import math\n",
    "import re\n",
    "from collections import Counter\n",
    "\n",
    "# Documents\n",
    "docs = [\n",
    "    \"The sun is shining brightly shining shining today.\",\n",
    "    \"A bright sun brings happiness.\",\n",
    "    \"The cat is sleeping on the mat.\",\n",
    "    \"A cat and dog are good friends.\"\n",
    "]\n",
    "\n",
    "# Preprocess: lowercase + remove punctuation\n",
    "def preprocess(text):\n",
    "    return re.findall(r'\\b\\w+\\b', text.lower())\n",
    "\n",
    "processed = [preprocess(doc) for doc in docs]\n",
    "\n",
    "# Compute TF (term frequency)\n",
    "def tf(words):\n",
    "    counts = Counter(words)\n",
    "    total = len(words)\n",
    "    return {w: c / total for w, c in counts.items()}\n",
    "\n",
    "# Compute IDF (inverse document frequency)\n",
    "def idf(processed):\n",
    "    N = len(processed)\n",
    "    all_words = set(w for doc in processed for w in doc)\n",
    "    return {w: math.log(N / (1 + sum(w in doc for doc in processed))) for w in all_words}\n",
    "\n",
    "# Compute TF-IDF\n",
    "def tfidf(processed):\n",
    "    idf_scores = idf(processed)\n",
    "    return [{w: tf_doc[w] * idf_scores[w] for w in tf_doc} for tf_doc in map(tf, processed)]\n",
    "\n",
    "# Run and display\n",
    "results = tfidf(processed)\n",
    "print(\"\\n--- TF-IDF Scores ---\")\n",
    "for i, doc in enumerate(results, 1):\n",
    "    print(f\"\\nDocument {i}:\")\n",
    "    for w, s in sorted(doc.items(), key=lambda x: x[1], reverse=True):\n",
    "        print(f\" {w:<10} : {s:.4f}\")\n"
   ]
  },
  {
   "cell_type": "code",
   "execution_count": null,
   "id": "09305f61-cb02-4e4e-a89d-faf3e824856a",
   "metadata": {},
   "outputs": [],
   "source": []
  }
 ],
 "metadata": {
  "kernelspec": {
   "display_name": "Python 3 (ipykernel)",
   "language": "python",
   "name": "python3"
  },
  "language_info": {
   "codemirror_mode": {
    "name": "ipython",
    "version": 3
   },
   "file_extension": ".py",
   "mimetype": "text/x-python",
   "name": "python",
   "nbconvert_exporter": "python",
   "pygments_lexer": "ipython3",
   "version": "3.12.3"
  }
 },
 "nbformat": 4,
 "nbformat_minor": 5
}
