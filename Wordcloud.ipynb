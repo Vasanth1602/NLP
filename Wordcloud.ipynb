{
 "cells": [
  {
   "cell_type": "code",
   "execution_count": null,
   "id": "d8ced968-19fc-4edd-b1fe-0803e7d8ef67",
   "metadata": {},
   "outputs": [],
   "source": [
    "# Step 1: Import Required Libraries\n",
    "# -------------------------------------------------------------\n",
    "!pip install wordcloud\n",
    "import matplotlib.pyplot as plt\n",
    "from wordcloud import WordCloud, STOPWORDS"
   ]
  },
  {
   "cell_type": "code",
   "execution_count": null,
   "id": "7d83cb64-d5ea-43f7-96f0-854cc2a318bc",
   "metadata": {},
   "outputs": [],
   "source": [
    "# Step 2: Input Text Data\n",
    "# -------------------------------------------------------------\n",
    "text = \"\"\"\n",
    "Python is a powerful and easy-to-learn programming language.\n",
    "It helps developers build applications more quickly and efficiently.\n",
    "Python can be used for data analysis, web development, automation,\n",
    "machine learning, and artificial intelligence. Because of its \n",
    "simplicity and versatility, Python is one of the most popular \n",
    "programming languages in the world.\n",
    "\"\"\""
   ]
  },
  {
   "cell_type": "code",
   "execution_count": null,
   "id": "f646b64e-04ce-4322-b224-da2f8bfd4586",
   "metadata": {},
   "outputs": [],
   "source": [
    "# Step 3: Create Word Cloud Object\n",
    "# -------------------------------------------------------------\n",
    "# WordCloud parameters:\n",
    "# - background_color: sets background color of the word cloud\n",
    "# - colormap: color theme of the words\n",
    "# - stopwords: removes common words like \"is\", \"and\", \"the\"\n",
    "# - width & height: size of the word cloud image\n",
    "\n",
    "wordcloud = WordCloud(\n",
    "    background_color='gray',\n",
    "    colormap='viridis',\n",
    "    stopwords=STOPWORDS,\n",
    "    width=800,\n",
    "    height=400\n",
    ").generate(text)"
   ]
  },
  {
   "cell_type": "code",
   "execution_count": null,
   "id": "add10931-c75a-4fe5-b8b1-732cab3a0c94",
   "metadata": {},
   "outputs": [],
   "source": [
    "# Step 4: Display the Word Cloud\n",
    "# -------------------------------------------------------------\n",
    "plt.figure(figsize=(10, 6))\n",
    "plt.imshow(wordcloud)\n",
    "plt.axis('off')  # hides axes\n",
    "plt.title(\"Word Cloud Visualization of Python Text\", fontsize=16, weight='bold')\n",
    "plt.show()"
   ]
  },
  {
   "cell_type": "code",
   "execution_count": null,
   "id": "c3fb2e10-63f6-4018-9c37-17f2cbef964e",
   "metadata": {},
   "outputs": [],
   "source": []
  }
 ],
 "metadata": {
  "kernelspec": {
   "display_name": "Python 3 (ipykernel)",
   "language": "python",
   "name": "python3"
  },
  "language_info": {
   "codemirror_mode": {
    "name": "ipython",
    "version": 3
   },
   "file_extension": ".py",
   "mimetype": "text/x-python",
   "name": "python",
   "nbconvert_exporter": "python",
   "pygments_lexer": "ipython3",
   "version": "3.9.13"
  }
 },
 "nbformat": 4,
 "nbformat_minor": 5
}
