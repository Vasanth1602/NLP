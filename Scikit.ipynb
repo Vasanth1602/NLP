{
 "cells": [
  {
   "cell_type": "code",
   "execution_count": null,
   "id": "1b04117a-9d38-402b-8e32-4f547bdb34f8",
   "metadata": {},
   "outputs": [],
   "source": [
    "import pandas as pd\n",
    "import numpy as np\n",
    "from sklearn.model_selection import train_test_split\n",
    "from sklearn.feature_extraction.text import CountVectorizer ,TfidfVectorizer\n",
    "from sklearn.naive_bayes import MultinomialNB\n",
    "from sklearn.metrics import accuracy_score,classification_report"
   ]
  },
  {
   "cell_type": "code",
   "execution_count": null,
   "id": "3e32df51-278c-4373-86d4-7a4f31fdd827",
   "metadata": {
    "scrolled": true
   },
   "outputs": [],
   "source": [
    "data=pd.DataFrame({'text':[\"This movie was fantastic , i loved it !\",\n",
    "                           \" the acting was terrible and the plot was boring.\",\n",
    "                           \"an amazing and inspiration flim.\",\n",
    "                           \"i would not recommend this movie to anyone.\",\n",
    "                           \"the best flim i have seen all year.\",\n",
    "                           \"a complete waste of time and money.\",\n",
    "                           \"brilliant screenplay and beautiful cinematography.\",\n",
    "                           \"The storyline was predictable and dull.\",\n",
    "                           \"Absolutely loved the performance.\",\n",
    "                           \"it was a huge disappoinment.\"],\n",
    "                   'label': ['Positive','Negative','Positive','Negative','Positive','Negative','Positive','Negative','Positive','Negative']})\n",
    "data"
   ]
  },
  {
   "cell_type": "code",
   "execution_count": null,
   "id": "6bc6fa0b-92bf-4083-810c-521017f80aff",
   "metadata": {},
   "outputs": [],
   "source": [
    "X=data['text']\n",
    "Y=data['label']"
   ]
  },
  {
   "cell_type": "code",
   "execution_count": null,
   "id": "39fd307b-4ec0-42aa-a5cf-6eaf71985bcc",
   "metadata": {},
   "outputs": [],
   "source": [
    "y_num=Y.map({'Negative':0,'Positive':1})\n"
   ]
  },
  {
   "cell_type": "code",
   "execution_count": null,
   "id": "3507a16b-e24d-44ce-a509-0752a0a32b4c",
   "metadata": {},
   "outputs": [],
   "source": [
    "X_train,X_test,Y_train,Y_test =train_test_split(X,y_num,test_size=0.2,random_state=42)\n"
   ]
  },
  {
   "cell_type": "code",
   "execution_count": null,
   "id": "3e5b064a-29ff-4959-b00d-f194da9e7331",
   "metadata": {},
   "outputs": [],
   "source": [
    "vectorizer=TfidfVectorizer()\n",
    "x_train_tidf=vectorizer.fit_transform(X_train)\n",
    "x_test_tidf=vectorizer.transform(X_test)"
   ]
  },
  {
   "cell_type": "code",
   "execution_count": null,
   "id": "be807c2a-dde4-4724-b47c-8af3986dd326",
   "metadata": {},
   "outputs": [],
   "source": [
    "model=MultinomialNB()\n",
    "model.fit(x_train_tidf,Y_train)"
   ]
  },
  {
   "cell_type": "code",
   "execution_count": null,
   "id": "f8499df8-e910-4177-80a3-311bd9997fcb",
   "metadata": {},
   "outputs": [],
   "source": [
    "y_pred = model.predict(x_test_tidf)"
   ]
  },
  {
   "cell_type": "code",
   "execution_count": null,
   "id": "4008821a-697f-4e89-a87e-4198563a54af",
   "metadata": {},
   "outputs": [],
   "source": [
    "accuracy=accuracy_score(Y_test,y_pred)\n",
    "report=classification_report(Y_test,y_pred,target_names=['Negative','Positive'])"
   ]
  },
  {
   "cell_type": "code",
   "execution_count": null,
   "id": "60e22957-00c7-4553-a44e-526edfcabc84",
   "metadata": {},
   "outputs": [],
   "source": [
    "print(\"___model evaluation___\")\n",
    "print(f\"Accuracy:{accuracy:.2f}\")\n",
    "print(\"\\nclassification report:\")\n",
    "print(report)"
   ]
  },
  {
   "cell_type": "code",
   "execution_count": null,
   "id": "6a544735-9cf6-4bc0-a1ef-1d5cc7145d3c",
   "metadata": {},
   "outputs": [],
   "source": [
    "new_sentences = [\n",
    "    \"It was very fantastic!\",\n",
    "    \"It was a really bad experience.\",\n",
    "    \"It was a huge disappointment.\"\n",
    "]\n"
   ]
  },
  {
   "cell_type": "code",
   "execution_count": null,
   "id": "824652ee-7341-4c1a-8007-8417333ff3ec",
   "metadata": {},
   "outputs": [],
   "source": [
    "new_sentences_tfidf = vectorizer.transform(new_sentences)\n",
    "new_predictions = model.predict(new_sentences_tfidf)"
   ]
  },
  {
   "cell_type": "code",
   "execution_count": null,
   "id": "fa037f9b-ad35-4901-b541-16afb62ef7a1",
   "metadata": {},
   "outputs": [],
   "source": [
    "print(\"\\nTesting with new sentences:\")\n",
    "for sentence, prediction in zip(new_sentences, new_predictions):\n",
    "    sentiment = \"Positive\" if prediction == 1 else \"Negative\"\n",
    "    print(f'Sentence: \"{sentence}\" | Prediction: {sentiment}')"
   ]
  },
  {
   "cell_type": "code",
   "execution_count": null,
   "id": "8c1b0c10-4506-43cf-9269-c3e3379558a5",
   "metadata": {},
   "outputs": [],
   "source": []
  }
 ],
 "metadata": {
  "kernelspec": {
   "display_name": "Python 3 (ipykernel)",
   "language": "python",
   "name": "python3"
  },
  "language_info": {
   "codemirror_mode": {
    "name": "ipython",
    "version": 3
   },
   "file_extension": ".py",
   "mimetype": "text/x-python",
   "name": "python",
   "nbconvert_exporter": "python",
   "pygments_lexer": "ipython3",
   "version": "3.9.13"
  }
 },
 "nbformat": 4,
 "nbformat_minor": 5
}
