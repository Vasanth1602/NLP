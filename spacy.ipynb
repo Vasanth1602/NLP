{
  "nbformat": 4,
  "nbformat_minor": 0,
  "metadata": {
    "colab": {
      "provenance": [],
      "gpuType": "T4"
    },
    "kernelspec": {
      "name": "python3",
      "display_name": "Python 3"
    },
    "language_info": {
      "name": "python"
    },
    "accelerator": "GPU"
  },
  "cells": [
    {
      "cell_type": "code",
      "execution_count": 4,
      "metadata": {
        "id": "ZW_h46m45RtO"
      },
      "outputs": [],
      "source": [
        "# Import the necessary modules\n",
        "import spacy\n",
        "from spacy import displacy"
      ]
    },
    {
      "cell_type": "code",
      "source": [
        "# Load the English language model\n",
        "nlp = spacy.load(\"en_core_web_sm\")"
      ],
      "metadata": {
        "id": "q69ANvtQ5cuh"
      },
      "execution_count": 5,
      "outputs": []
    },
    {
      "cell_type": "code",
      "source": [
        "text = \"\"\"Mahendra Singh Dhoni (born 7 July 1981) is an Indian professional cricketer\n",
        "who plays as a right-handed batter and a wicket-keeper.\n",
        "He led India to victory in the 2007 ICC World Twenty20, 2011 Cricket World Cup,\n",
        "and 2013 ICC Champions Trophy.\"\"\""
      ],
      "metadata": {
        "id": "eZq-hA6_5jWY"
      },
      "execution_count": 6,
      "outputs": []
    },
    {
      "cell_type": "code",
      "source": [
        "doc = nlp(text)"
      ],
      "metadata": {
        "id": "TGaCmtUI5mwC"
      },
      "execution_count": 7,
      "outputs": []
    },
    {
      "cell_type": "code",
      "source": [
        "# Tokenization (Short Review)\n",
        "print(\"🔹 Tokens:\")\n",
        "print([token.text for token in doc])"
      ],
      "metadata": {
        "id": "gCkq5qU85n5b"
      },
      "execution_count": null,
      "outputs": []
    },
    {
      "cell_type": "code",
      "source": [
        "# Lemmatization (Short Review)\n",
        "print(\"\\n🔹 Lemmas:\")\n",
        "print([token.lemma_ for token in doc])"
      ],
      "metadata": {
        "id": "_NVUgmXH5pSU"
      },
      "execution_count": null,
      "outputs": []
    },
    {
      "cell_type": "code",
      "source": [
        "# 2. Part-of-Speech (POS) Tagging\n",
        "# ----------------------------------------\n",
        "print(\"\\n🔹 Part-of-Speech (POS) Tags:\")\n",
        "for token in doc:\n",
        "    print(f\"{token.text:15} --> {token.pos_}\")"
      ],
      "metadata": {
        "id": "zuVmT0Q75sMw"
      },
      "execution_count": null,
      "outputs": []
    },
    {
      "cell_type": "code",
      "source": [
        "# 3. Named Entity Recognition (NER)\n",
        "print(\"\\n🔹 Named Entities and Their Labels:\")\n",
        "for ent in doc.ents:\n",
        "    print(f\"{ent.text:35} --> {ent.label_}\")"
      ],
      "metadata": {
        "id": "acWxs-6h6A-P"
      },
      "execution_count": null,
      "outputs": []
    },
    {
      "cell_type": "code",
      "source": [
        "# Visualize Named Entities\n",
        "displacy.render(doc, style=\"ent\", jupyter=True)"
      ],
      "metadata": {
        "id": "8KwmA2uC6CVK"
      },
      "execution_count": null,
      "outputs": []
    },
    {
      "cell_type": "code",
      "source": [
        "# 4. Dependency Parsing\n",
        "# ----------------------------------------\n",
        "print(\"\\n🔹 Dependency Parsing Visualization:\")\n",
        "displacy.render(doc, style=\"dep\", jupyter=True)"
      ],
      "metadata": {
        "id": "Zez7cJt46DrN"
      },
      "execution_count": null,
      "outputs": []
    },
    {
      "cell_type": "code",
      "source": [],
      "metadata": {
        "id": "hV0Z9cyf6IQ9"
      },
      "execution_count": null,
      "outputs": []
    }
  ]
}