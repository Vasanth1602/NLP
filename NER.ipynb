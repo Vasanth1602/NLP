{
  "nbformat": 4,
  "nbformat_minor": 0,
  "metadata": {
    "colab": {
      "provenance": []
    },
    "kernelspec": {
      "name": "python3",
      "display_name": "Python 3"
    },
    "language_info": {
      "name": "python"
    }
  },
  "cells": [
    {
      "cell_type": "code",
      "execution_count": 1,
      "metadata": {
        "id": "ktvZhD_kAe_a"
      },
      "outputs": [],
      "source": [
        "# Import the necessary modules\n",
        "import spacy\n",
        "from spacy import displacy"
      ]
    },
    {
      "cell_type": "code",
      "source": [
        "# Load the English language model\n",
        "nlp = spacy.load(\"en_core_web_sm\")"
      ],
      "metadata": {
        "id": "TBoo1mvxAkZW"
      },
      "execution_count": 2,
      "outputs": []
    },
    {
      "cell_type": "code",
      "source": [
        "text = \"\"\"Mahendra Singh Dhoni (born 7 July 1981) is an Indian professional cricketer\n",
        "who plays as a right-handed batter and a wicket-keeper.\n",
        "He led India to victory in the 2007 ICC World Twenty20, 2011 Cricket World Cup,\n",
        "and 2013 ICC Champions Trophy.\"\"\""
      ],
      "metadata": {
        "id": "HfdFdXA3AopS"
      },
      "execution_count": 3,
      "outputs": []
    },
    {
      "cell_type": "code",
      "source": [
        "doc = nlp(text)"
      ],
      "metadata": {
        "id": "IFCpL8GvAp8Z"
      },
      "execution_count": 4,
      "outputs": []
    },
    {
      "cell_type": "code",
      "source": [
        "# 3. Named Entity Recognition (NER)\n",
        "print(\"\\n🔹 Named Entities and Their Labels:\")\n",
        "for ent in doc.ents:\n",
        "    print(f\"{ent.text:35} --> {ent.label_}\")"
      ],
      "metadata": {
        "id": "TSDBzugZAsV9"
      },
      "execution_count": null,
      "outputs": []
    },
    {
      "cell_type": "code",
      "source": [
        "# Visualize Named Entities\n",
        "displacy.render(doc, style=\"ent\", jupyter=True)"
      ],
      "metadata": {
        "id": "h7zUtlrTAxIc"
      },
      "execution_count": null,
      "outputs": []
    },
    {
      "cell_type": "code",
      "source": [
        "entities = [(ent.text, ent.label_) for ent in doc.ents]\n",
        "df = pd.DataFrame(entities, columns=['Entity Text', 'Entity Type'])\n",
        "print(\"\\n🔹 Entities in Tabular Form:\\n\")\n",
        "print(df)"
      ],
      "metadata": {
        "id": "y2zJjRTcA--9"
      },
      "execution_count": null,
      "outputs": []
    },
    {
      "cell_type": "code",
      "source": [
        "import pandas as pd"
      ],
      "metadata": {
        "id": "L-4UUYJOBCSM"
      },
      "execution_count": 9,
      "outputs": []
    },
    {
      "cell_type": "code",
      "source": [],
      "metadata": {
        "id": "wlspVqazBGj2"
      },
      "execution_count": null,
      "outputs": []
    }
  ]
}